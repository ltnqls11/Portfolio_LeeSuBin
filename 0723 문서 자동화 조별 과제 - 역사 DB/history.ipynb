{
 "cells": [
  {
   "cell_type": "code",
   "execution_count": 1,
   "id": "60c5b638",
   "metadata": {},
   "outputs": [],
   "source": [
    "import requests\n",
    "from bs4 import BeautifulSoup\n",
    "import csv\n",
    "import json\n",
    "import datetime\n",
    "from selenium import webdriver\n",
    "import time\n",
    "\n",
    "driver = webdriver.Chrome()\n",
    "driver.get('https://namu.wiki/')\n",
    "\n",
    "\n"
   ]
  },
  {
   "cell_type": "code",
   "execution_count": 2,
   "id": "f06f0207",
   "metadata": {},
   "outputs": [
    {
     "data": {
      "text/plain": [
       "<Response [403]>"
      ]
     },
     "execution_count": 2,
     "metadata": {},
     "output_type": "execute_result"
    }
   ],
   "source": [
    "url = 'https://quizlet.com/latest'\n",
    "\n",
    "response = requests.get(url)\n",
    "response"
   ]
  },
  {
   "cell_type": "code",
   "execution_count": 3,
   "id": "d97b03d5",
   "metadata": {},
   "outputs": [
    {
     "ename": "SyntaxError",
     "evalue": "invalid syntax (2413317057.py, line 1)",
     "output_type": "error",
     "traceback": [
      "\u001b[1;36m  Cell \u001b[1;32mIn[3], line 1\u001b[1;36m\u001b[0m\n\u001b[1;33m    <link as=\"script\" href=\"https://securepubads.g.doubleclick.net/tag/js/gpt.js\" rel=\"preload\">\u001b[0m\n\u001b[1;37m    ^\u001b[0m\n\u001b[1;31mSyntaxError\u001b[0m\u001b[1;31m:\u001b[0m invalid syntax\n"
     ]
    }
   ],
   "source": [
    "<link as=\"script\" href=\"https://securepubads.g.doubleclick.net/tag/js/gpt.js\" rel=\"preload\">"
   ]
  },
  {
   "cell_type": "code",
   "execution_count": 2,
   "id": "b9b28396",
   "metadata": {},
   "outputs": [
    {
     "ename": "NoSuchElementException",
     "evalue": "Message: no such element: Unable to locate element: {\"method\":\"xpath\",\"selector\":\"//*[@id=\"content\"]/div[3]/div/div[2]/div[1]/div/section[2]/div/div[2]\"}\n  (Session info: chrome=138.0.7204.158); For documentation on this error, please visit: https://www.selenium.dev/documentation/webdriver/troubleshooting/errors#nosuchelementexception\nStacktrace:\n\tGetHandleVerifier [0x0x7ff65631e935+77845]\n\tGetHandleVerifier [0x0x7ff65631e990+77936]\n\t(No symbol) [0x0x7ff6560d9cda]\n\t(No symbol) [0x0x7ff6561306aa]\n\t(No symbol) [0x0x7ff65613095c]\n\t(No symbol) [0x0x7ff656183d07]\n\t(No symbol) [0x0x7ff65615890f]\n\t(No symbol) [0x0x7ff656180b07]\n\t(No symbol) [0x0x7ff6561586a3]\n\t(No symbol) [0x0x7ff656121791]\n\t(No symbol) [0x0x7ff656122523]\n\tGetHandleVerifier [0x0x7ff6565f684d+3059501]\n\tGetHandleVerifier [0x0x7ff6565f0c0d+3035885]\n\tGetHandleVerifier [0x0x7ff656610400+3164896]\n\tGetHandleVerifier [0x0x7ff656338c3e+185118]\n\tGetHandleVerifier [0x0x7ff65634054f+216111]\n\tGetHandleVerifier [0x0x7ff6563272e4+113092]\n\tGetHandleVerifier [0x0x7ff656327499+113529]\n\tGetHandleVerifier [0x0x7ff65630e298+10616]\n\tBaseThreadInitThunk [0x0x7ffa3b4a7374+20]\n\tRtlUserThreadStart [0x0x7ffa3c4bcc91+33]\n",
     "output_type": "error",
     "traceback": [
      "\u001b[1;31m---------------------------------------------------------------------------\u001b[0m",
      "\u001b[1;31mNoSuchElementException\u001b[0m                    Traceback (most recent call last)",
      "Cell \u001b[1;32mIn[2], line 59\u001b[0m\n\u001b[0;32m     57\u001b[0m \u001b[38;5;28;01mfor\u001b[39;00m l \u001b[38;5;129;01min\u001b[39;00m link:\n\u001b[0;32m     58\u001b[0m     driver\u001b[38;5;241m.\u001b[39mget(l)\n\u001b[1;32m---> 59\u001b[0m     d \u001b[38;5;241m=\u001b[39m (\u001b[43mdriver\u001b[49m\u001b[38;5;241;43m.\u001b[39;49m\u001b[43mfind_element\u001b[49m\u001b[43m(\u001b[49m\u001b[43mBy\u001b[49m\u001b[38;5;241;43m.\u001b[39;49m\u001b[43mXPATH\u001b[49m\u001b[43m,\u001b[49m\u001b[43m \u001b[49m\u001b[38;5;124;43mf\u001b[39;49m\u001b[38;5;124;43m'\u001b[39;49m\u001b[38;5;124;43m//*[@id=\u001b[39;49m\u001b[38;5;124;43m\"\u001b[39;49m\u001b[38;5;124;43mcontent\u001b[39;49m\u001b[38;5;124;43m\"\u001b[39;49m\u001b[38;5;124;43m]/div[3]/div/div[2]/div[1]/div/section[2]/div/div[2]\u001b[39;49m\u001b[38;5;124;43m'\u001b[39;49m\u001b[43m)\u001b[49m\u001b[38;5;241m.\u001b[39mtext)\n\u001b[0;32m     60\u001b[0m     cx \u001b[38;5;241m=\u001b[39m (driver\u001b[38;5;241m.\u001b[39mfind_element(By\u001b[38;5;241m.\u001b[39mXPATH, \u001b[38;5;124mf\u001b[39m\u001b[38;5;124m'\u001b[39m\u001b[38;5;124m//*[@id=\u001b[39m\u001b[38;5;124m\"\u001b[39m\u001b[38;5;124msection-read\u001b[39m\u001b[38;5;124m\"\u001b[39m\u001b[38;5;124m]/div[1]\u001b[39m\u001b[38;5;124m'\u001b[39m)\u001b[38;5;241m.\u001b[39mtext)\n\u001b[0;32m     61\u001b[0m     date\u001b[38;5;241m.\u001b[39mappend(d)\n",
      "File \u001b[1;32mc:\\Users\\EDU03-16\\AppData\\Local\\Programs\\Python\\Python310\\lib\\site-packages\\selenium\\webdriver\\remote\\webdriver.py:922\u001b[0m, in \u001b[0;36mWebDriver.find_element\u001b[1;34m(self, by, value)\u001b[0m\n\u001b[0;32m    919\u001b[0m         \u001b[38;5;28;01mraise\u001b[39;00m NoSuchElementException(\u001b[38;5;124mf\u001b[39m\u001b[38;5;124m\"\u001b[39m\u001b[38;5;124mCannot locate relative element with: \u001b[39m\u001b[38;5;132;01m{\u001b[39;00mby\u001b[38;5;241m.\u001b[39mroot\u001b[38;5;132;01m}\u001b[39;00m\u001b[38;5;124m\"\u001b[39m)\n\u001b[0;32m    920\u001b[0m     \u001b[38;5;28;01mreturn\u001b[39;00m elements[\u001b[38;5;241m0\u001b[39m]\n\u001b[1;32m--> 922\u001b[0m \u001b[38;5;28;01mreturn\u001b[39;00m \u001b[38;5;28;43mself\u001b[39;49m\u001b[38;5;241;43m.\u001b[39;49m\u001b[43mexecute\u001b[49m\u001b[43m(\u001b[49m\u001b[43mCommand\u001b[49m\u001b[38;5;241;43m.\u001b[39;49m\u001b[43mFIND_ELEMENT\u001b[49m\u001b[43m,\u001b[49m\u001b[43m \u001b[49m\u001b[43m{\u001b[49m\u001b[38;5;124;43m\"\u001b[39;49m\u001b[38;5;124;43musing\u001b[39;49m\u001b[38;5;124;43m\"\u001b[39;49m\u001b[43m:\u001b[49m\u001b[43m \u001b[49m\u001b[43mby\u001b[49m\u001b[43m,\u001b[49m\u001b[43m \u001b[49m\u001b[38;5;124;43m\"\u001b[39;49m\u001b[38;5;124;43mvalue\u001b[39;49m\u001b[38;5;124;43m\"\u001b[39;49m\u001b[43m:\u001b[49m\u001b[43m \u001b[49m\u001b[43mvalue\u001b[49m\u001b[43m}\u001b[49m\u001b[43m)\u001b[49m[\u001b[38;5;124m\"\u001b[39m\u001b[38;5;124mvalue\u001b[39m\u001b[38;5;124m\"\u001b[39m]\n",
      "File \u001b[1;32mc:\\Users\\EDU03-16\\AppData\\Local\\Programs\\Python\\Python310\\lib\\site-packages\\selenium\\webdriver\\remote\\webdriver.py:454\u001b[0m, in \u001b[0;36mWebDriver.execute\u001b[1;34m(self, driver_command, params)\u001b[0m\n\u001b[0;32m    451\u001b[0m response \u001b[38;5;241m=\u001b[39m cast(RemoteConnection, \u001b[38;5;28mself\u001b[39m\u001b[38;5;241m.\u001b[39mcommand_executor)\u001b[38;5;241m.\u001b[39mexecute(driver_command, params)\n\u001b[0;32m    453\u001b[0m \u001b[38;5;28;01mif\u001b[39;00m response:\n\u001b[1;32m--> 454\u001b[0m     \u001b[38;5;28;43mself\u001b[39;49m\u001b[38;5;241;43m.\u001b[39;49m\u001b[43merror_handler\u001b[49m\u001b[38;5;241;43m.\u001b[39;49m\u001b[43mcheck_response\u001b[49m\u001b[43m(\u001b[49m\u001b[43mresponse\u001b[49m\u001b[43m)\u001b[49m\n\u001b[0;32m    455\u001b[0m     response[\u001b[38;5;124m\"\u001b[39m\u001b[38;5;124mvalue\u001b[39m\u001b[38;5;124m\"\u001b[39m] \u001b[38;5;241m=\u001b[39m \u001b[38;5;28mself\u001b[39m\u001b[38;5;241m.\u001b[39m_unwrap_value(response\u001b[38;5;241m.\u001b[39mget(\u001b[38;5;124m\"\u001b[39m\u001b[38;5;124mvalue\u001b[39m\u001b[38;5;124m\"\u001b[39m, \u001b[38;5;28;01mNone\u001b[39;00m))\n\u001b[0;32m    456\u001b[0m     \u001b[38;5;28;01mreturn\u001b[39;00m response\n",
      "File \u001b[1;32mc:\\Users\\EDU03-16\\AppData\\Local\\Programs\\Python\\Python310\\lib\\site-packages\\selenium\\webdriver\\remote\\errorhandler.py:232\u001b[0m, in \u001b[0;36mErrorHandler.check_response\u001b[1;34m(self, response)\u001b[0m\n\u001b[0;32m    230\u001b[0m         alert_text \u001b[38;5;241m=\u001b[39m value[\u001b[38;5;124m\"\u001b[39m\u001b[38;5;124malert\u001b[39m\u001b[38;5;124m\"\u001b[39m]\u001b[38;5;241m.\u001b[39mget(\u001b[38;5;124m\"\u001b[39m\u001b[38;5;124mtext\u001b[39m\u001b[38;5;124m\"\u001b[39m)\n\u001b[0;32m    231\u001b[0m     \u001b[38;5;28;01mraise\u001b[39;00m exception_class(message, screen, stacktrace, alert_text)  \u001b[38;5;66;03m# type: ignore[call-arg]  # mypy is not smart enough here\u001b[39;00m\n\u001b[1;32m--> 232\u001b[0m \u001b[38;5;28;01mraise\u001b[39;00m exception_class(message, screen, stacktrace)\n",
      "\u001b[1;31mNoSuchElementException\u001b[0m: Message: no such element: Unable to locate element: {\"method\":\"xpath\",\"selector\":\"//*[@id=\"content\"]/div[3]/div/div[2]/div[1]/div/section[2]/div/div[2]\"}\n  (Session info: chrome=138.0.7204.158); For documentation on this error, please visit: https://www.selenium.dev/documentation/webdriver/troubleshooting/errors#nosuchelementexception\nStacktrace:\n\tGetHandleVerifier [0x0x7ff65631e935+77845]\n\tGetHandleVerifier [0x0x7ff65631e990+77936]\n\t(No symbol) [0x0x7ff6560d9cda]\n\t(No symbol) [0x0x7ff6561306aa]\n\t(No symbol) [0x0x7ff65613095c]\n\t(No symbol) [0x0x7ff656183d07]\n\t(No symbol) [0x0x7ff65615890f]\n\t(No symbol) [0x0x7ff656180b07]\n\t(No symbol) [0x0x7ff6561586a3]\n\t(No symbol) [0x0x7ff656121791]\n\t(No symbol) [0x0x7ff656122523]\n\tGetHandleVerifier [0x0x7ff6565f684d+3059501]\n\tGetHandleVerifier [0x0x7ff6565f0c0d+3035885]\n\tGetHandleVerifier [0x0x7ff656610400+3164896]\n\tGetHandleVerifier [0x0x7ff656338c3e+185118]\n\tGetHandleVerifier [0x0x7ff65634054f+216111]\n\tGetHandleVerifier [0x0x7ff6563272e4+113092]\n\tGetHandleVerifier [0x0x7ff656327499+113529]\n\tGetHandleVerifier [0x0x7ff65630e298+10616]\n\tBaseThreadInitThunk [0x0x7ffa3b4a7374+20]\n\tRtlUserThreadStart [0x0x7ffa3c4bcc91+33]\n"
     ]
    }
   ],
   "source": [
    "from selenium import webdriver\n",
    "from selenium.webdriver.chrome.options import Options\n",
    "from selenium.webdriver.common.by import By\n",
    "from selenium.webdriver.common.keys import Keys\n",
    "from selenium.webdriver.support.ui import WebDriverWait\n",
    "from selenium.webdriver.support import expected_conditions as EC\n",
    "import time\n",
    "import random\n",
    "\n",
    "chrome_options = Options()\n",
    "\n",
    "# 캡차 회피 설정\n",
    "chrome_options.add_argument(\"--disable-blink-features=AutomationControlled\")\n",
    "chrome_options.add_experimental_option(\"excludeSwitches\", [\"enable-automation\"])\n",
    "chrome_options.add_experimental_option('useAutomationExtension', False)\n",
    "\n",
    "# User-Agent 설정\n",
    "chrome_options.add_argument(\"--user-agent=Mozilla/5.0 (Windows NT 10.0; Win64; x64) AppleWebKit/537.36 (KHTML, like Gecko) Chrome/120.0.0.0 Safari/537.36\")\n",
    "\n",
    "# 안정성을 위한 옵션들\n",
    "chrome_options.add_argument(\"--no-sandbox\")\n",
    "chrome_options.add_argument(\"--disable-dev-shm-usage\")\n",
    "chrome_options.add_argument(\"--disable-extensions\")\n",
    "chrome_options.add_argument(\"--window-size=1200,800\")\n",
    "\n",
    "# 브라우저 창을 닫지 않도록 설정\n",
    "chrome_options.add_experimental_option(\"detach\", True)\n",
    "\n",
    "year = []\n",
    "content = []\n",
    "link = []\n",
    "detail = []\n",
    "date = []\n",
    "context = []\n",
    "image = []\n",
    "\n",
    "\n",
    "driver = webdriver.Chrome(options=chrome_options)\n",
    "driver.get('https://contents.history.go.kr/front/th/list.do')\n",
    "time.sleep(3)\n",
    "driver.find_element(By.XPATH, f'//*[@id=\"container\"]/div/div/div/div/a[2]').click()\n",
    "\n",
    "i = 1\n",
    "while True:\n",
    "    try:\n",
    "        time.sleep(1)\n",
    "        y = (driver.find_element(By.XPATH, f'//*[@id=\"container\"]/div/div/table/tbody/tr[{i}]/th').text)\n",
    "        c = (driver.find_element(By.XPATH, f'//*[@id=\"container\"]/div/div/table/tbody/tr[{i}]/td').text)\n",
    "        l = (driver.find_element(By.XPATH, f'//*[@id=\"container\"]/div/div/table/tbody/tr[{i}]/td/div/a').get_attribute('href'))\n",
    "        year.append(y)\n",
    "        content.append(c)\n",
    "        link.append(l)\n",
    "        i += 1\n",
    "    except:\n",
    "        break\n",
    "\n",
    "for l in link:\n",
    "    driver.get(l)\n",
    "    d = (driver.find_element(By.XPATH, f'//*[@id=\"content\"]/div[3]/div/div[2]/div[1]/div/section[2]/div/div[2]').text)\n",
    "    cx = (driver.find_element(By.XPATH, f'//*[@id=\"section-read\"]/div[1]').text)\n",
    "    date.append(d)\n",
    "    context.append(cx)\n",
    "    \n",
    "import pandas as pd\n",
    "df = pd.DataFrame({'날짜':date, '제목':content, '내용':context, '링크':link})\n",
    "df\n"
   ]
  },
  {
   "cell_type": "code",
   "execution_count": 3,
   "id": "5f8beb31",
   "metadata": {},
   "outputs": [
    {
     "ename": "ValueError",
     "evalue": "All arrays must be of the same length",
     "output_type": "error",
     "traceback": [
      "\u001b[1;31m---------------------------------------------------------------------------\u001b[0m",
      "\u001b[1;31mValueError\u001b[0m                                Traceback (most recent call last)",
      "Cell \u001b[1;32mIn[3], line 2\u001b[0m\n\u001b[0;32m      1\u001b[0m \u001b[38;5;28;01mimport\u001b[39;00m\u001b[38;5;250m \u001b[39m\u001b[38;5;21;01mpandas\u001b[39;00m\u001b[38;5;250m \u001b[39m\u001b[38;5;28;01mas\u001b[39;00m\u001b[38;5;250m \u001b[39m\u001b[38;5;21;01mpd\u001b[39;00m\n\u001b[1;32m----> 2\u001b[0m df \u001b[38;5;241m=\u001b[39m \u001b[43mpd\u001b[49m\u001b[38;5;241;43m.\u001b[39;49m\u001b[43mDataFrame\u001b[49m\u001b[43m(\u001b[49m\u001b[43m{\u001b[49m\u001b[38;5;124;43m'\u001b[39;49m\u001b[38;5;124;43m날짜\u001b[39;49m\u001b[38;5;124;43m'\u001b[39;49m\u001b[43m:\u001b[49m\u001b[43mdate\u001b[49m\u001b[43m,\u001b[49m\u001b[43m \u001b[49m\u001b[38;5;124;43m'\u001b[39;49m\u001b[38;5;124;43m제목\u001b[39;49m\u001b[38;5;124;43m'\u001b[39;49m\u001b[43m:\u001b[49m\u001b[43mcontent\u001b[49m\u001b[43m,\u001b[49m\u001b[43m \u001b[49m\u001b[38;5;124;43m'\u001b[39;49m\u001b[38;5;124;43m내용\u001b[39;49m\u001b[38;5;124;43m'\u001b[39;49m\u001b[43m:\u001b[49m\u001b[43mcontext\u001b[49m\u001b[43m,\u001b[49m\u001b[43m \u001b[49m\u001b[38;5;124;43m'\u001b[39;49m\u001b[38;5;124;43m링크\u001b[39;49m\u001b[38;5;124;43m'\u001b[39;49m\u001b[43m:\u001b[49m\u001b[43mlink\u001b[49m\u001b[43m}\u001b[49m\u001b[43m)\u001b[49m\n\u001b[0;32m      3\u001b[0m df\n",
      "File \u001b[1;32mc:\\Users\\EDU03-16\\AppData\\Local\\Programs\\Python\\Python310\\lib\\site-packages\\pandas\\core\\frame.py:778\u001b[0m, in \u001b[0;36mDataFrame.__init__\u001b[1;34m(self, data, index, columns, dtype, copy)\u001b[0m\n\u001b[0;32m    772\u001b[0m     mgr \u001b[38;5;241m=\u001b[39m \u001b[38;5;28mself\u001b[39m\u001b[38;5;241m.\u001b[39m_init_mgr(\n\u001b[0;32m    773\u001b[0m         data, axes\u001b[38;5;241m=\u001b[39m{\u001b[38;5;124m\"\u001b[39m\u001b[38;5;124mindex\u001b[39m\u001b[38;5;124m\"\u001b[39m: index, \u001b[38;5;124m\"\u001b[39m\u001b[38;5;124mcolumns\u001b[39m\u001b[38;5;124m\"\u001b[39m: columns}, dtype\u001b[38;5;241m=\u001b[39mdtype, copy\u001b[38;5;241m=\u001b[39mcopy\n\u001b[0;32m    774\u001b[0m     )\n\u001b[0;32m    776\u001b[0m \u001b[38;5;28;01melif\u001b[39;00m \u001b[38;5;28misinstance\u001b[39m(data, \u001b[38;5;28mdict\u001b[39m):\n\u001b[0;32m    777\u001b[0m     \u001b[38;5;66;03m# GH#38939 de facto copy defaults to False only in non-dict cases\u001b[39;00m\n\u001b[1;32m--> 778\u001b[0m     mgr \u001b[38;5;241m=\u001b[39m \u001b[43mdict_to_mgr\u001b[49m\u001b[43m(\u001b[49m\u001b[43mdata\u001b[49m\u001b[43m,\u001b[49m\u001b[43m \u001b[49m\u001b[43mindex\u001b[49m\u001b[43m,\u001b[49m\u001b[43m \u001b[49m\u001b[43mcolumns\u001b[49m\u001b[43m,\u001b[49m\u001b[43m \u001b[49m\u001b[43mdtype\u001b[49m\u001b[38;5;241;43m=\u001b[39;49m\u001b[43mdtype\u001b[49m\u001b[43m,\u001b[49m\u001b[43m \u001b[49m\u001b[43mcopy\u001b[49m\u001b[38;5;241;43m=\u001b[39;49m\u001b[43mcopy\u001b[49m\u001b[43m,\u001b[49m\u001b[43m \u001b[49m\u001b[43mtyp\u001b[49m\u001b[38;5;241;43m=\u001b[39;49m\u001b[43mmanager\u001b[49m\u001b[43m)\u001b[49m\n\u001b[0;32m    779\u001b[0m \u001b[38;5;28;01melif\u001b[39;00m \u001b[38;5;28misinstance\u001b[39m(data, ma\u001b[38;5;241m.\u001b[39mMaskedArray):\n\u001b[0;32m    780\u001b[0m     \u001b[38;5;28;01mfrom\u001b[39;00m\u001b[38;5;250m \u001b[39m\u001b[38;5;21;01mnumpy\u001b[39;00m\u001b[38;5;21;01m.\u001b[39;00m\u001b[38;5;21;01mma\u001b[39;00m\u001b[38;5;250m \u001b[39m\u001b[38;5;28;01mimport\u001b[39;00m mrecords\n",
      "File \u001b[1;32mc:\\Users\\EDU03-16\\AppData\\Local\\Programs\\Python\\Python310\\lib\\site-packages\\pandas\\core\\internals\\construction.py:503\u001b[0m, in \u001b[0;36mdict_to_mgr\u001b[1;34m(data, index, columns, dtype, typ, copy)\u001b[0m\n\u001b[0;32m    499\u001b[0m     \u001b[38;5;28;01melse\u001b[39;00m:\n\u001b[0;32m    500\u001b[0m         \u001b[38;5;66;03m# dtype check to exclude e.g. range objects, scalars\u001b[39;00m\n\u001b[0;32m    501\u001b[0m         arrays \u001b[38;5;241m=\u001b[39m [x\u001b[38;5;241m.\u001b[39mcopy() \u001b[38;5;28;01mif\u001b[39;00m \u001b[38;5;28mhasattr\u001b[39m(x, \u001b[38;5;124m\"\u001b[39m\u001b[38;5;124mdtype\u001b[39m\u001b[38;5;124m\"\u001b[39m) \u001b[38;5;28;01melse\u001b[39;00m x \u001b[38;5;28;01mfor\u001b[39;00m x \u001b[38;5;129;01min\u001b[39;00m arrays]\n\u001b[1;32m--> 503\u001b[0m \u001b[38;5;28;01mreturn\u001b[39;00m \u001b[43marrays_to_mgr\u001b[49m\u001b[43m(\u001b[49m\u001b[43marrays\u001b[49m\u001b[43m,\u001b[49m\u001b[43m \u001b[49m\u001b[43mcolumns\u001b[49m\u001b[43m,\u001b[49m\u001b[43m \u001b[49m\u001b[43mindex\u001b[49m\u001b[43m,\u001b[49m\u001b[43m \u001b[49m\u001b[43mdtype\u001b[49m\u001b[38;5;241;43m=\u001b[39;49m\u001b[43mdtype\u001b[49m\u001b[43m,\u001b[49m\u001b[43m \u001b[49m\u001b[43mtyp\u001b[49m\u001b[38;5;241;43m=\u001b[39;49m\u001b[43mtyp\u001b[49m\u001b[43m,\u001b[49m\u001b[43m \u001b[49m\u001b[43mconsolidate\u001b[49m\u001b[38;5;241;43m=\u001b[39;49m\u001b[43mcopy\u001b[49m\u001b[43m)\u001b[49m\n",
      "File \u001b[1;32mc:\\Users\\EDU03-16\\AppData\\Local\\Programs\\Python\\Python310\\lib\\site-packages\\pandas\\core\\internals\\construction.py:114\u001b[0m, in \u001b[0;36marrays_to_mgr\u001b[1;34m(arrays, columns, index, dtype, verify_integrity, typ, consolidate)\u001b[0m\n\u001b[0;32m    111\u001b[0m \u001b[38;5;28;01mif\u001b[39;00m verify_integrity:\n\u001b[0;32m    112\u001b[0m     \u001b[38;5;66;03m# figure out the index, if necessary\u001b[39;00m\n\u001b[0;32m    113\u001b[0m     \u001b[38;5;28;01mif\u001b[39;00m index \u001b[38;5;129;01mis\u001b[39;00m \u001b[38;5;28;01mNone\u001b[39;00m:\n\u001b[1;32m--> 114\u001b[0m         index \u001b[38;5;241m=\u001b[39m \u001b[43m_extract_index\u001b[49m\u001b[43m(\u001b[49m\u001b[43marrays\u001b[49m\u001b[43m)\u001b[49m\n\u001b[0;32m    115\u001b[0m     \u001b[38;5;28;01melse\u001b[39;00m:\n\u001b[0;32m    116\u001b[0m         index \u001b[38;5;241m=\u001b[39m ensure_index(index)\n",
      "File \u001b[1;32mc:\\Users\\EDU03-16\\AppData\\Local\\Programs\\Python\\Python310\\lib\\site-packages\\pandas\\core\\internals\\construction.py:677\u001b[0m, in \u001b[0;36m_extract_index\u001b[1;34m(data)\u001b[0m\n\u001b[0;32m    675\u001b[0m lengths \u001b[38;5;241m=\u001b[39m \u001b[38;5;28mlist\u001b[39m(\u001b[38;5;28mset\u001b[39m(raw_lengths))\n\u001b[0;32m    676\u001b[0m \u001b[38;5;28;01mif\u001b[39;00m \u001b[38;5;28mlen\u001b[39m(lengths) \u001b[38;5;241m>\u001b[39m \u001b[38;5;241m1\u001b[39m:\n\u001b[1;32m--> 677\u001b[0m     \u001b[38;5;28;01mraise\u001b[39;00m \u001b[38;5;167;01mValueError\u001b[39;00m(\u001b[38;5;124m\"\u001b[39m\u001b[38;5;124mAll arrays must be of the same length\u001b[39m\u001b[38;5;124m\"\u001b[39m)\n\u001b[0;32m    679\u001b[0m \u001b[38;5;28;01mif\u001b[39;00m have_dicts:\n\u001b[0;32m    680\u001b[0m     \u001b[38;5;28;01mraise\u001b[39;00m \u001b[38;5;167;01mValueError\u001b[39;00m(\n\u001b[0;32m    681\u001b[0m         \u001b[38;5;124m\"\u001b[39m\u001b[38;5;124mMixing dicts with non-Series may lead to ambiguous ordering.\u001b[39m\u001b[38;5;124m\"\u001b[39m\n\u001b[0;32m    682\u001b[0m     )\n",
      "\u001b[1;31mValueError\u001b[0m: All arrays must be of the same length"
     ]
    }
   ],
   "source": [
    "import pandas as pd\n",
    "df = pd.DataFrame({'날짜':date, '제목':content, '내용':context, '링크':link})\n",
    "df"
   ]
  },
  {
   "cell_type": "code",
   "execution_count": null,
   "id": "446afd5b",
   "metadata": {},
   "outputs": [
    {
     "name": "stdout",
     "output_type": "stream",
     "text": [
      "['1269년', '1437년', '1442년', '1448년', '1463년', '1490년', '1496년', '1498년', '1589년', '1604년', '1605년', '1614년', '1630년', '1681년', '1683년', '1695년', '1789년', '1796년', '1817년', '1821년', '1894년', '1895년', '1909년', '1910년', '1931년', '1938년', '1948년', '1954년', '1955년', '1963년', '1971년', '1974년', '1978년', '1981년', '1992년', '1995년', '1997년', '2004년', '2005년', '2007년']\n",
      "['[음] 귀국하던 세자가 임연의 모반 소식을 듣고 몽고로 돌아감\\n고려사', '[음] 각 도에 《농사직설》의 경작법을 권장함\\n조선왕조실록', '[음] 행수법(行守法)을 실시함\\n조선왕조실록', '[음] 성균관 유생들이 내불당 건립에 반대하여 동맹 휴학함\\n조선왕조실록', '[윤] 일본 원교직의 사자 영채가 흰옷을 입은 관음보살을 그려 바침\\n조선왕조실록', '[음] 경상도에 비 피해 발생. 사망자 19명 등 집계\\n조선왕조실록', '[음] 귀화 여진인 동청례 등을 보내 건주 여진을 회유함\\n조선왕조실록', '[음] 김종직의 문집 《점필재집》을 불태움\\n조선왕조실록', '[음] 유구국 상인이 진도에 표류하여 오자 명나라에 호송해 보냄\\n조선왕조실록', '[음] 명나라 장수 양호(楊鎬)를 선무사(宣武詞)에 배향함\\n조선왕조실록', '[음] 강원도·경상도 지역에 심각한 홍수 피해 발생\\n조선왕조실록', '[음] 서쪽 변방에 대비하여 대포를 주조하기로 함\\n조선왕조실록', '[음] 서정군을 없앰\\n조선왕조실록', '[음] 영소전 제사, 알성시 합격자의 복색, 청호의 재설치, 공정 대왕의 묘호 등에 관해 논의함\\n조선왕조실록', '[음] 경상도의 대동미를 12두로 감해 줌\\n조선왕조실록', '[음] 200결이 넘는 궁방전을 혁파할 것을 청함\\n조선왕조실록', '[음] 증미의 폐단을 논의함\\n조선왕조실록', '[음] 《존주록》을 편집함\\n조선왕조실록', '[음] 양양부의 공삼(貢蔘) 절반을 경공(京貢)으로 함\\n조선왕조실록', '[음] 회암사 부도와 비석을 파괴하고 아버지를 묻은 자를 죄주는 데 대한 법의 적용을 논의함\\n조선왕조실록', '[음] 내정 개혁. 통리 교섭 통상 사무 아문을 외무 대신이라 하고,외무 협판 아래 각 국을 설치\\n근대사 연표', '학부, 〈한성 사범 학교와 부속 소학교 규칙〉 공포\\n근대사 연표', '대한 적십자사, 일본 적십자사에 합병\\n근대사 연표', '제3대 통감 데라우찌, 한국에 부임\\n근대사 연표', '아동 문학가 방정환(1899~1931) 사망\\n근대사 연표', '조선총독부, 전국의 교원·관공리에 제복 착용 지시\\n근대사 연표', '북한, 인공기 제정·태극기 폐지\\n대한민국사 연표', '한글 간소화 강행, 기안·정부 공문서에 한글 전용 지시\\n대한민국사 연표', '여대생 간음 관련 박인수 사건 공판, 법은 순수한 정조만 보호한다고 판시\\n대한민국사 연표', '재야 3당 투쟁 위원회, 4대 의혹 사건 공동 조사 결과 발표 및 정부 비난\\n대한민국사 연표', '서울 지방 검찰청, 교련 반대 시위 주동 고려대생 3명에 실형 구형\\n대한민국사 연표', '지학순 주교, 유신 헌법·긴급 조치 비판의 〈양심 선언〉 발표\\n대한민국사 연표', '들불 야학 결성\\n대한민국사 연표', '이태복 등 30여 명, 전국 민주 학생 연맹·전국 민주 노동 연맹 사건으로 구속\\n대한민국사 연표', '민주당, 경부 고속 전철 등 6개 사업의 정치 자금 조성 관련, 사업 중단 요구\\n대한민국사 연표', '씨 프린스호, 전남 여천군 해상에서 좌초. 최악의 해양 오염 사고 발생\\n대한민국사 연표', '검찰, 음화 제조 혐의로 『천국의 신화』 만화가 이현세 소환 조사\\n대한민국사 연표', '최종영 대법원장, 노무현 대통령에 첫 여성 대법관 김영란 판사 임명 제청\\n대한민국사 연표', '민주 언론 운동 시민 연합, 정치 자금의 전달을 중개한 홍석현 주미 대사 사퇴 촉구\\n대한민국사 연표', '경기도 하남시 주민들, 처음으로 하남시장 주민 소환 투표 청구\\n대한민국사 연표']\n"
     ]
    }
   ],
   "source": [
    "print(year)\n",
    "print(content)"
   ]
  },
  {
   "cell_type": "code",
   "execution_count": null,
   "id": "6a05c7c1",
   "metadata": {},
   "outputs": [],
   "source": [
    "//*[@id=\"content\"]/div[3]/div/div[2]/div[1]/div/section[2]/div/div[2]\n",
    "//*[@id=\"content\"]/div[3]/div/div[2]/div[1]/div/section[2]/div/div[2]"
   ]
  },
  {
   "cell_type": "code",
   "execution_count": null,
   "id": "45d1ee9f",
   "metadata": {},
   "outputs": [],
   "source": [
    "//*[@id=\"container\"]/div/div/table/tbody/tr[1]/th\n",
    "//*[@id=\"container\"]/div/div/table/tbody/tr[2]/th"
   ]
  },
  {
   "cell_type": "code",
   "execution_count": null,
   "id": "6ab04c56",
   "metadata": {
    "vscode": {
     "languageId": "html"
    }
   },
   "outputs": [],
   "source": [
    "//*[@id=\"section-read\"]/div[1]"
   ]
  },
  {
   "cell_type": "code",
   "execution_count": null,
   "id": "e6da5e8b",
   "metadata": {},
   "outputs": [
    {
     "ename": "NoSuchElementException",
     "evalue": "Message: no such element: Unable to locate element: {\"method\":\"xpath\",\"selector\":\"//*[@id=\"img_canvas\"]\"}\n  (Session info: chrome=138.0.7204.158); For documentation on this error, please visit: https://www.selenium.dev/documentation/webdriver/troubleshooting/errors#nosuchelementexception\nStacktrace:\n\tGetHandleVerifier [0x0x7ff770f6e935+77845]\n\tGetHandleVerifier [0x0x7ff770f6e990+77936]\n\t(No symbol) [0x0x7ff770d29cda]\n\t(No symbol) [0x0x7ff770d806aa]\n\t(No symbol) [0x0x7ff770d8095c]\n\t(No symbol) [0x0x7ff770dd3d07]\n\t(No symbol) [0x0x7ff770da890f]\n\t(No symbol) [0x0x7ff770dd0b07]\n\t(No symbol) [0x0x7ff770da86a3]\n\t(No symbol) [0x0x7ff770d71791]\n\t(No symbol) [0x0x7ff770d72523]\n\tGetHandleVerifier [0x0x7ff77124684d+3059501]\n\tGetHandleVerifier [0x0x7ff771240c0d+3035885]\n\tGetHandleVerifier [0x0x7ff771260400+3164896]\n\tGetHandleVerifier [0x0x7ff770f88c3e+185118]\n\tGetHandleVerifier [0x0x7ff770f9054f+216111]\n\tGetHandleVerifier [0x0x7ff770f772e4+113092]\n\tGetHandleVerifier [0x0x7ff770f77499+113529]\n\tGetHandleVerifier [0x0x7ff770f5e298+10616]\n\tBaseThreadInitThunk [0x0x7ffa278b7374+20]\n\tRtlUserThreadStart [0x0x7ffa297fcc91+33]\n",
     "output_type": "error",
     "traceback": [
      "\u001b[31m---------------------------------------------------------------------------\u001b[39m",
      "\u001b[31mNoSuchElementException\u001b[39m                    Traceback (most recent call last)",
      "\u001b[36mCell\u001b[39m\u001b[36m \u001b[39m\u001b[32mIn[43]\u001b[39m\u001b[32m, line 7\u001b[39m\n\u001b[32m      4\u001b[39m driver.find_element(By.XPATH, \u001b[33mf\u001b[39m\u001b[33m'\u001b[39m\u001b[33m//*[@id=\u001b[39m\u001b[33m\"\u001b[39m\u001b[33mcontent\u001b[39m\u001b[33m\"\u001b[39m\u001b[33m]/div[3]/div/div[2]/div[1]/div/section[1]/div[2]/div[1]/a/figure/figcaption\u001b[39m\u001b[33m'\u001b[39m).click()\n\u001b[32m      5\u001b[39m driver.find_element(By.XPATH, \u001b[33mf\u001b[39m\u001b[33m'\u001b[39m\u001b[33m//*[@id=\u001b[39m\u001b[33m\"\u001b[39m\u001b[33mcontent\u001b[39m\u001b[33m\"\u001b[39m\u001b[33m]/div[3]/div/div[2]/div[1]/div/section[1]/div[2]/div[1]/div/ul/li/a\u001b[39m\u001b[33m'\u001b[39m).click()\n\u001b[32m----> \u001b[39m\u001b[32m7\u001b[39m img_element = \u001b[43mdriver\u001b[49m\u001b[43m.\u001b[49m\u001b[43mfind_element\u001b[49m\u001b[43m(\u001b[49m\u001b[43mBy\u001b[49m\u001b[43m.\u001b[49m\u001b[43mXPATH\u001b[49m\u001b[43m,\u001b[49m\u001b[43m \u001b[49m\u001b[33;43m'\u001b[39;49m\u001b[33;43m//*[@id=\u001b[39;49m\u001b[33;43m\"\u001b[39;49m\u001b[33;43mimg_canvas\u001b[39;49m\u001b[33;43m\"\u001b[39;49m\u001b[33;43m]\u001b[39;49m\u001b[33;43m'\u001b[39;49m\u001b[43m)\u001b[49m\n\u001b[32m      8\u001b[39m img.element.get_attribute(\u001b[33m'\u001b[39m\u001b[33msrc\u001b[39m\u001b[33m'\u001b[39m)\n",
      "\u001b[36mFile \u001b[39m\u001b[32mc:\\Users\\USER\\AppData\\Local\\Programs\\Python\\Python313\\Lib\\site-packages\\selenium\\webdriver\\remote\\webdriver.py:922\u001b[39m, in \u001b[36mWebDriver.find_element\u001b[39m\u001b[34m(self, by, value)\u001b[39m\n\u001b[32m    919\u001b[39m         \u001b[38;5;28;01mraise\u001b[39;00m NoSuchElementException(\u001b[33mf\u001b[39m\u001b[33m\"\u001b[39m\u001b[33mCannot locate relative element with: \u001b[39m\u001b[38;5;132;01m{\u001b[39;00mby.root\u001b[38;5;132;01m}\u001b[39;00m\u001b[33m\"\u001b[39m)\n\u001b[32m    920\u001b[39m     \u001b[38;5;28;01mreturn\u001b[39;00m elements[\u001b[32m0\u001b[39m]\n\u001b[32m--> \u001b[39m\u001b[32m922\u001b[39m \u001b[38;5;28;01mreturn\u001b[39;00m \u001b[38;5;28;43mself\u001b[39;49m\u001b[43m.\u001b[49m\u001b[43mexecute\u001b[49m\u001b[43m(\u001b[49m\u001b[43mCommand\u001b[49m\u001b[43m.\u001b[49m\u001b[43mFIND_ELEMENT\u001b[49m\u001b[43m,\u001b[49m\u001b[43m \u001b[49m\u001b[43m{\u001b[49m\u001b[33;43m\"\u001b[39;49m\u001b[33;43musing\u001b[39;49m\u001b[33;43m\"\u001b[39;49m\u001b[43m:\u001b[49m\u001b[43m \u001b[49m\u001b[43mby\u001b[49m\u001b[43m,\u001b[49m\u001b[43m \u001b[49m\u001b[33;43m\"\u001b[39;49m\u001b[33;43mvalue\u001b[39;49m\u001b[33;43m\"\u001b[39;49m\u001b[43m:\u001b[49m\u001b[43m \u001b[49m\u001b[43mvalue\u001b[49m\u001b[43m}\u001b[49m\u001b[43m)\u001b[49m[\u001b[33m\"\u001b[39m\u001b[33mvalue\u001b[39m\u001b[33m\"\u001b[39m]\n",
      "\u001b[36mFile \u001b[39m\u001b[32mc:\\Users\\USER\\AppData\\Local\\Programs\\Python\\Python313\\Lib\\site-packages\\selenium\\webdriver\\remote\\webdriver.py:454\u001b[39m, in \u001b[36mWebDriver.execute\u001b[39m\u001b[34m(self, driver_command, params)\u001b[39m\n\u001b[32m    451\u001b[39m response = cast(RemoteConnection, \u001b[38;5;28mself\u001b[39m.command_executor).execute(driver_command, params)\n\u001b[32m    453\u001b[39m \u001b[38;5;28;01mif\u001b[39;00m response:\n\u001b[32m--> \u001b[39m\u001b[32m454\u001b[39m     \u001b[38;5;28;43mself\u001b[39;49m\u001b[43m.\u001b[49m\u001b[43merror_handler\u001b[49m\u001b[43m.\u001b[49m\u001b[43mcheck_response\u001b[49m\u001b[43m(\u001b[49m\u001b[43mresponse\u001b[49m\u001b[43m)\u001b[49m\n\u001b[32m    455\u001b[39m     response[\u001b[33m\"\u001b[39m\u001b[33mvalue\u001b[39m\u001b[33m\"\u001b[39m] = \u001b[38;5;28mself\u001b[39m._unwrap_value(response.get(\u001b[33m\"\u001b[39m\u001b[33mvalue\u001b[39m\u001b[33m\"\u001b[39m, \u001b[38;5;28;01mNone\u001b[39;00m))\n\u001b[32m    456\u001b[39m     \u001b[38;5;28;01mreturn\u001b[39;00m response\n",
      "\u001b[36mFile \u001b[39m\u001b[32mc:\\Users\\USER\\AppData\\Local\\Programs\\Python\\Python313\\Lib\\site-packages\\selenium\\webdriver\\remote\\errorhandler.py:232\u001b[39m, in \u001b[36mErrorHandler.check_response\u001b[39m\u001b[34m(self, response)\u001b[39m\n\u001b[32m    230\u001b[39m         alert_text = value[\u001b[33m\"\u001b[39m\u001b[33malert\u001b[39m\u001b[33m\"\u001b[39m].get(\u001b[33m\"\u001b[39m\u001b[33mtext\u001b[39m\u001b[33m\"\u001b[39m)\n\u001b[32m    231\u001b[39m     \u001b[38;5;28;01mraise\u001b[39;00m exception_class(message, screen, stacktrace, alert_text)  \u001b[38;5;66;03m# type: ignore[call-arg]  # mypy is not smart enough here\u001b[39;00m\n\u001b[32m--> \u001b[39m\u001b[32m232\u001b[39m \u001b[38;5;28;01mraise\u001b[39;00m exception_class(message, screen, stacktrace)\n",
      "\u001b[31mNoSuchElementException\u001b[39m: Message: no such element: Unable to locate element: {\"method\":\"xpath\",\"selector\":\"//*[@id=\"img_canvas\"]\"}\n  (Session info: chrome=138.0.7204.158); For documentation on this error, please visit: https://www.selenium.dev/documentation/webdriver/troubleshooting/errors#nosuchelementexception\nStacktrace:\n\tGetHandleVerifier [0x0x7ff770f6e935+77845]\n\tGetHandleVerifier [0x0x7ff770f6e990+77936]\n\t(No symbol) [0x0x7ff770d29cda]\n\t(No symbol) [0x0x7ff770d806aa]\n\t(No symbol) [0x0x7ff770d8095c]\n\t(No symbol) [0x0x7ff770dd3d07]\n\t(No symbol) [0x0x7ff770da890f]\n\t(No symbol) [0x0x7ff770dd0b07]\n\t(No symbol) [0x0x7ff770da86a3]\n\t(No symbol) [0x0x7ff770d71791]\n\t(No symbol) [0x0x7ff770d72523]\n\tGetHandleVerifier [0x0x7ff77124684d+3059501]\n\tGetHandleVerifier [0x0x7ff771240c0d+3035885]\n\tGetHandleVerifier [0x0x7ff771260400+3164896]\n\tGetHandleVerifier [0x0x7ff770f88c3e+185118]\n\tGetHandleVerifier [0x0x7ff770f9054f+216111]\n\tGetHandleVerifier [0x0x7ff770f772e4+113092]\n\tGetHandleVerifier [0x0x7ff770f77499+113529]\n\tGetHandleVerifier [0x0x7ff770f5e298+10616]\n\tBaseThreadInitThunk [0x0x7ffa278b7374+20]\n\tRtlUserThreadStart [0x0x7ffa297fcc91+33]\n"
     ]
    }
   ],
   "source": [
    "driver = webdriver.Chrome(options=chrome_options)\n",
    "driver.get('https://db.history.go.kr/id/kr_026r_0060_0070_0070')\n",
    "time.sleep(3)\n",
    "driver.find_element(By.XPATH, f'//*[@id=\"content\"]/div[3]/div/div[2]/div[1]/div/section[1]/div[2]/div[1]/a/figure/figcaption').click()\n",
    "driver.find_element(By.XPATH, f'//*[@id=\"content\"]/div[3]/div/div[2]/div[1]/div/section[1]/div[2]/div[1]/div/ul/li/a').click()\n",
    "\n",
    "img_element = driver.find_element(By.XPATH, '//*[@id=\"img_canvas\"]')\n",
    "img.element.get_attribute('src')\n"
   ]
  },
  {
   "cell_type": "code",
   "execution_count": null,
   "id": "99846fa8",
   "metadata": {},
   "outputs": [],
   "source": [
    "//*[@id=\"img_canvas\"]"
   ]
  }
 ],
 "metadata": {
  "kernelspec": {
   "display_name": "Python 3",
   "language": "python",
   "name": "python3"
  },
  "language_info": {
   "codemirror_mode": {
    "name": "ipython",
    "version": 3
   },
   "file_extension": ".py",
   "mimetype": "text/x-python",
   "name": "python",
   "nbconvert_exporter": "python",
   "pygments_lexer": "ipython3",
   "version": "3.10.10"
  }
 },
 "nbformat": 4,
 "nbformat_minor": 5
}
